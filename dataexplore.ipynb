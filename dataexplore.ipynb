{
 "cells": [
  {
   "cell_type": "code",
   "execution_count": 3,
   "metadata": {},
   "outputs": [],
   "source": [
    "import pandas as pd\n",
    "import matplotlib.pyplot as plt\n",
    "import numpy as np\n",
    "import torch\n"
   ]
  },
  {
   "cell_type": "code",
   "execution_count": 4,
   "metadata": {},
   "outputs": [
    {
     "data": {
      "text/plain": [
       "{'portfolio': tensor([[20020730.,  1000000.,        0.,        0.,        0.,        0.],\n",
       "         [20020731.,  1000000.,        0.,        0.,        0.,        0.],\n",
       "         [20020801.,  1000000.,        0.,        0.,        0.,        0.],\n",
       "         ...,\n",
       "         [20231102.,  1000000.,        0.,        0.,        0.,        0.],\n",
       "         [20231103.,  1000000.,        0.,        0.,        0.,        0.],\n",
       "         [20231106.,  1000000.,        0.,        0.,        0.,        0.]],\n",
       "        dtype=torch.float64),\n",
       " 'features': tensor([[[ 39.8950,      nan,      nan,  ...,      nan,      nan,      nan],\n",
       "          [ 24.3100,      nan,      nan,  ...,      nan,      nan,      nan],\n",
       "          [ 90.9400,      nan,      nan,  ...,      nan,      nan,      nan],\n",
       "          [ 81.5200,      nan,      nan,  ...,      nan,      nan,      nan]],\n",
       " \n",
       "         [[ 39.2750,      nan,      nan,  ...,      nan,      nan,      nan],\n",
       "          [ 23.8500,      nan,      nan,  ...,      nan,      nan,      nan],\n",
       "          [ 91.1600,      nan,      nan,  ...,      nan,      nan,      nan],\n",
       "          [ 82.5300,      nan,      nan,  ...,      nan,      nan,      nan]],\n",
       " \n",
       "         [[ 38.7000,      nan,      nan,  ...,      nan,      nan,      nan],\n",
       "          [ 22.7300,      nan,      nan,  ...,      nan,      nan,      nan],\n",
       "          [ 88.7800,      nan,      nan,  ...,      nan,      nan,      nan],\n",
       "          [ 83.0000,      nan,      nan,  ...,      nan,      nan,      nan]],\n",
       " \n",
       "         ...,\n",
       " \n",
       "         [[169.8700,  49.2103, 167.0650,  ...,   0.7413, -44.4068,   1.5748],\n",
       "          [363.4400,  54.5041, 356.4379,  ...,   0.9640, -25.0267,   2.0176],\n",
       "          [430.7600,  54.7021, 422.9979,  ...,   1.0154, -25.5098,   1.8606],\n",
       "          [ 87.0400,  52.5575,  84.5579,  ...,   5.1589,  -5.5214,   2.2460]],\n",
       " \n",
       "         [[174.4900,  57.3945, 167.1700,  ...,   4.8366, -13.0847,   3.7374],\n",
       "          [367.7100,  58.0539, 356.3164,  ...,   3.6971,  -8.0160,   2.7754],\n",
       "          [434.6900,  58.1708, 422.9014,  ...,   3.2052, -11.9254,   2.4090],\n",
       "          [ 87.6300,  54.4467,  84.6600,  ...,   5.2739, -21.4179,   2.5373]],\n",
       " \n",
       "         [[172.3100,  53.0505, 166.9814,  ...,   4.4113, -23.8913,   2.1090],\n",
       "          [369.2100,  59.2565, 356.3886,  ...,   3.8069,  -2.0780,   2.7570],\n",
       "          [435.6900,  59.0305, 422.8779,  ...,   3.6222,  -2.2157,   2.2839],\n",
       "          [ 86.7800,  51.2786,  84.7693,  ...,   3.0152, -34.2383,   1.3342]]],\n",
       "        dtype=torch.float64)}"
      ]
     },
     "execution_count": 4,
     "metadata": {},
     "output_type": "execute_result"
    }
   ],
   "source": [
    "data = torch.load('state_dict.pt')\n",
    "data"
   ]
  },
  {
   "cell_type": "code",
   "execution_count": 8,
   "metadata": {},
   "outputs": [
    {
     "data": {
      "text/plain": [
       "torch.Size([5356, 4])"
      ]
     },
     "execution_count": 8,
     "metadata": {},
     "output_type": "execute_result"
    }
   ],
   "source": [
    "close = data['features'][:, :, 0]\n",
    "close.shape"
   ]
  },
  {
   "cell_type": "markdown",
   "metadata": {},
   "source": [
    "## Baseline\n",
    "Find $\\max_{\\theta} \\theta \\cdot P_{\\text{diff}}$ where $\\theta \\in \\mathbb{R}^4$ is in increments of 25 and $P_{\\text{diff}} = P_{\\text{last day}}-P_{\\text{first day}}$."
   ]
  },
  {
   "cell_type": "code",
   "execution_count": null,
   "metadata": {},
   "outputs": [],
   "source": [
    "close[]"
   ]
  }
 ],
 "metadata": {
  "kernelspec": {
   "display_name": "221",
   "language": "python",
   "name": "python3"
  },
  "language_info": {
   "codemirror_mode": {
    "name": "ipython",
    "version": 3
   },
   "file_extension": ".py",
   "mimetype": "text/x-python",
   "name": "python",
   "nbconvert_exporter": "python",
   "pygments_lexer": "ipython3",
   "version": "3.11.5"
  }
 },
 "nbformat": 4,
 "nbformat_minor": 2
}
